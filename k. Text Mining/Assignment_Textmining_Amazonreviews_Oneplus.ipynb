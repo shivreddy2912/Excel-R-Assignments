{
 "cells": [
  {
   "cell_type": "code",
   "execution_count": 1,
   "metadata": {},
   "outputs": [],
   "source": [
    "import pandas as pd\n",
    "import numpy as num\n",
    "\n",
    "import warnings\n",
    "warnings.filterwarnings(\"ignore\")"
   ]
  },
  {
   "cell_type": "code",
   "execution_count": 3,
   "metadata": {},
   "outputs": [
    {
     "data": {
      "text/html": [
       "<div>\n",
       "<style scoped>\n",
       "    .dataframe tbody tr th:only-of-type {\n",
       "        vertical-align: middle;\n",
       "    }\n",
       "\n",
       "    .dataframe tbody tr th {\n",
       "        vertical-align: top;\n",
       "    }\n",
       "\n",
       "    .dataframe thead th {\n",
       "        text-align: right;\n",
       "    }\n",
       "</style>\n",
       "<table border=\"1\" class=\"dataframe\">\n",
       "  <thead>\n",
       "    <tr style=\"text-align: right;\">\n",
       "      <th></th>\n",
       "      <th>S. No</th>\n",
       "      <th>stars</th>\n",
       "      <th>body</th>\n",
       "      <th>name</th>\n",
       "      <th>title</th>\n",
       "    </tr>\n",
       "  </thead>\n",
       "  <tbody>\n",
       "    <tr>\n",
       "      <th>0</th>\n",
       "      <td>0</td>\n",
       "      <td>1.0 out of 5 stars</td>\n",
       "      <td>Bakwas phone</td>\n",
       "      <td>vikas</td>\n",
       "      <td>Bakwas phone</td>\n",
       "    </tr>\n",
       "    <tr>\n",
       "      <th>1</th>\n",
       "      <td>1</td>\n",
       "      <td>1.0 out of 5 stars</td>\n",
       "      <td>It is like a normal android..not an OnePlus..L...</td>\n",
       "      <td>Verified buyer</td>\n",
       "      <td>It is not OnePlus</td>\n",
       "    </tr>\n",
       "    <tr>\n",
       "      <th>2</th>\n",
       "      <td>2</td>\n",
       "      <td>5.0 out of 5 stars</td>\n",
       "      <td>The best part of the phone is it's super simpl...</td>\n",
       "      <td>Rohit M</td>\n",
       "      <td>Good overall</td>\n",
       "    </tr>\n",
       "    <tr>\n",
       "      <th>3</th>\n",
       "      <td>3</td>\n",
       "      <td>5.0 out of 5 stars</td>\n",
       "      <td>Performance is really good - no lags at allPer...</td>\n",
       "      <td>Subhrajit Pyne</td>\n",
       "      <td>Smooth user experience</td>\n",
       "    </tr>\n",
       "    <tr>\n",
       "      <th>4</th>\n",
       "      <td>4</td>\n",
       "      <td>1.0 out of 5 stars</td>\n",
       "      <td>Phone looks good but features are 10k phoneCam...</td>\n",
       "      <td>Omar khan</td>\n",
       "      <td>Worst phone in this segment</td>\n",
       "    </tr>\n",
       "    <tr>\n",
       "      <th>...</th>\n",
       "      <td>...</td>\n",
       "      <td>...</td>\n",
       "      <td>...</td>\n",
       "      <td>...</td>\n",
       "      <td>...</td>\n",
       "    </tr>\n",
       "    <tr>\n",
       "      <th>485</th>\n",
       "      <td>485</td>\n",
       "      <td>1.0 out of 5 stars</td>\n",
       "      <td>Gets heated quickly. Charge is not sufficient ...</td>\n",
       "      <td>Balaji</td>\n",
       "      <td>Oneplus is not upto the mark</td>\n",
       "    </tr>\n",
       "    <tr>\n",
       "      <th>486</th>\n",
       "      <td>486</td>\n",
       "      <td>5.0 out of 5 stars</td>\n",
       "      <td>Everything is good, Camera is pretty decent an...</td>\n",
       "      <td>Kanakavardhan Reddy</td>\n",
       "      <td>One+...is too good 😊</td>\n",
       "    </tr>\n",
       "    <tr>\n",
       "      <th>487</th>\n",
       "      <td>487</td>\n",
       "      <td>1.0 out of 5 stars</td>\n",
       "      <td>Don't go with the name. It's an ordinary andro...</td>\n",
       "      <td>mani</td>\n",
       "      <td>Fooling with name One plus</td>\n",
       "    </tr>\n",
       "    <tr>\n",
       "      <th>488</th>\n",
       "      <td>488</td>\n",
       "      <td>5.0 out of 5 stars</td>\n",
       "      <td>Wonderful is the only word I've for this phone</td>\n",
       "      <td>SRINIVAS VITTHAL PANDURANGI</td>\n",
       "      <td>What an excellent mobile</td>\n",
       "    </tr>\n",
       "    <tr>\n",
       "      <th>489</th>\n",
       "      <td>489</td>\n",
       "      <td>1.0 out of 5 stars</td>\n",
       "      <td>Does not deserve a single star. Battery draini...</td>\n",
       "      <td>NaN</td>\n",
       "      <td>NaN</td>\n",
       "    </tr>\n",
       "  </tbody>\n",
       "</table>\n",
       "<p>490 rows × 5 columns</p>\n",
       "</div>"
      ],
      "text/plain": [
       "     S. No               stars  \\\n",
       "0        0  1.0 out of 5 stars   \n",
       "1        1  1.0 out of 5 stars   \n",
       "2        2  5.0 out of 5 stars   \n",
       "3        3  5.0 out of 5 stars   \n",
       "4        4  1.0 out of 5 stars   \n",
       "..     ...                 ...   \n",
       "485    485  1.0 out of 5 stars   \n",
       "486    486  5.0 out of 5 stars   \n",
       "487    487  1.0 out of 5 stars   \n",
       "488    488  5.0 out of 5 stars   \n",
       "489    489  1.0 out of 5 stars   \n",
       "\n",
       "                                                  body  \\\n",
       "0                                         Bakwas phone   \n",
       "1    It is like a normal android..not an OnePlus..L...   \n",
       "2    The best part of the phone is it's super simpl...   \n",
       "3    Performance is really good - no lags at allPer...   \n",
       "4    Phone looks good but features are 10k phoneCam...   \n",
       "..                                                 ...   \n",
       "485  Gets heated quickly. Charge is not sufficient ...   \n",
       "486  Everything is good, Camera is pretty decent an...   \n",
       "487  Don't go with the name. It's an ordinary andro...   \n",
       "488     Wonderful is the only word I've for this phone   \n",
       "489  Does not deserve a single star. Battery draini...   \n",
       "\n",
       "                            name                         title  \n",
       "0                          vikas                  Bakwas phone  \n",
       "1                 Verified buyer             It is not OnePlus  \n",
       "2                        Rohit M                  Good overall  \n",
       "3                 Subhrajit Pyne        Smooth user experience  \n",
       "4                      Omar khan   Worst phone in this segment  \n",
       "..                           ...                           ...  \n",
       "485                       Balaji  Oneplus is not upto the mark  \n",
       "486          Kanakavardhan Reddy          One+...is too good 😊  \n",
       "487                         mani    Fooling with name One plus  \n",
       "488  SRINIVAS VITTHAL PANDURANGI      What an excellent mobile  \n",
       "489                          NaN                           NaN  \n",
       "\n",
       "[490 rows x 5 columns]"
      ]
     },
     "execution_count": 3,
     "metadata": {},
     "output_type": "execute_result"
    }
   ],
   "source": [
    "df=pd.read_excel('amazonreviews_oneplus.xlsx')\n",
    "df"
   ]
  },
  {
   "cell_type": "code",
   "execution_count": 4,
   "metadata": {},
   "outputs": [],
   "source": [
    "cust_name = df['name'] \n",
    "review_title = df['title']\n",
    "rate = df['stars']\n",
    "review_content = df['body']"
   ]
  },
  {
   "cell_type": "code",
   "execution_count": 5,
   "metadata": {},
   "outputs": [],
   "source": [
    "import pandas as pd\n",
    "import numpy as np\n",
    "import matplotlib.pyplot as plt\n",
    "import seaborn as sns\n",
    "sns.set_style('white')\n",
    "import nltk\n",
    "from nltk.corpus import stopwords\n",
    "from nltk import ngrams\n",
    "from nltk.tokenize import word_tokenize\n",
    "import wordcloud\n",
    "from wordcloud import WordCloud\n",
    "from nltk.stem import WordNetLemmatizer\n",
    "lemmatizer=WordNetLemmatizer()"
   ]
  },
  {
   "cell_type": "code",
   "execution_count": 6,
   "metadata": {},
   "outputs": [
    {
     "name": "stdout",
     "output_type": "stream",
     "text": [
      "<class 'pandas.core.frame.DataFrame'>\n",
      "RangeIndex: 490 entries, 0 to 489\n",
      "Data columns (total 5 columns):\n",
      " #   Column  Non-Null Count  Dtype \n",
      "---  ------  --------------  ----- \n",
      " 0   S. No   490 non-null    int64 \n",
      " 1   stars   490 non-null    object\n",
      " 2   body    487 non-null    object\n",
      " 3   name    489 non-null    object\n",
      " 4   title   489 non-null    object\n",
      "dtypes: int64(1), object(4)\n",
      "memory usage: 19.3+ KB\n"
     ]
    }
   ],
   "source": [
    "df.info()"
   ]
  },
  {
   "cell_type": "code",
   "execution_count": 7,
   "metadata": {},
   "outputs": [
    {
     "data": {
      "text/plain": [
       "5.0 out of 5 stars    36.326531\n",
       "1.0 out of 5 stars    24.693878\n",
       "4.0 out of 5 stars    16.938776\n",
       "3.0 out of 5 stars    13.061224\n",
       "2.0 out of 5 stars     8.979592\n",
       "Name: stars, dtype: float64"
      ]
     },
     "execution_count": 7,
     "metadata": {},
     "output_type": "execute_result"
    }
   ],
   "source": [
    "df['stars'].value_counts(normalize=True)*100"
   ]
  },
  {
   "cell_type": "code",
   "execution_count": 8,
   "metadata": {},
   "outputs": [
    {
     "data": {
      "text/html": [
       "<div>\n",
       "<style scoped>\n",
       "    .dataframe tbody tr th:only-of-type {\n",
       "        vertical-align: middle;\n",
       "    }\n",
       "\n",
       "    .dataframe tbody tr th {\n",
       "        vertical-align: top;\n",
       "    }\n",
       "\n",
       "    .dataframe thead th {\n",
       "        text-align: right;\n",
       "    }\n",
       "</style>\n",
       "<table border=\"1\" class=\"dataframe\">\n",
       "  <thead>\n",
       "    <tr style=\"text-align: right;\">\n",
       "      <th></th>\n",
       "      <th>S. No</th>\n",
       "      <th>body</th>\n",
       "      <th>name</th>\n",
       "      <th>title</th>\n",
       "    </tr>\n",
       "    <tr>\n",
       "      <th>stars</th>\n",
       "      <th></th>\n",
       "      <th></th>\n",
       "      <th></th>\n",
       "      <th></th>\n",
       "    </tr>\n",
       "  </thead>\n",
       "  <tbody>\n",
       "    <tr>\n",
       "      <th>1.0 out of 5 stars</th>\n",
       "      <td>121</td>\n",
       "      <td>121</td>\n",
       "      <td>120</td>\n",
       "      <td>120</td>\n",
       "    </tr>\n",
       "    <tr>\n",
       "      <th>2.0 out of 5 stars</th>\n",
       "      <td>44</td>\n",
       "      <td>44</td>\n",
       "      <td>44</td>\n",
       "      <td>44</td>\n",
       "    </tr>\n",
       "    <tr>\n",
       "      <th>3.0 out of 5 stars</th>\n",
       "      <td>64</td>\n",
       "      <td>64</td>\n",
       "      <td>64</td>\n",
       "      <td>64</td>\n",
       "    </tr>\n",
       "    <tr>\n",
       "      <th>4.0 out of 5 stars</th>\n",
       "      <td>83</td>\n",
       "      <td>83</td>\n",
       "      <td>83</td>\n",
       "      <td>83</td>\n",
       "    </tr>\n",
       "    <tr>\n",
       "      <th>5.0 out of 5 stars</th>\n",
       "      <td>178</td>\n",
       "      <td>175</td>\n",
       "      <td>178</td>\n",
       "      <td>178</td>\n",
       "    </tr>\n",
       "  </tbody>\n",
       "</table>\n",
       "</div>"
      ],
      "text/plain": [
       "                    S. No  body  name  title\n",
       "stars                                       \n",
       "1.0 out of 5 stars    121   121   120    120\n",
       "2.0 out of 5 stars     44    44    44     44\n",
       "3.0 out of 5 stars     64    64    64     64\n",
       "4.0 out of 5 stars     83    83    83     83\n",
       "5.0 out of 5 stars    178   175   178    178"
      ]
     },
     "execution_count": 8,
     "metadata": {},
     "output_type": "execute_result"
    }
   ],
   "source": [
    "ratings=df.groupby(['stars']).count()\n",
    "ratings"
   ]
  },
  {
   "cell_type": "code",
   "execution_count": 9,
   "metadata": {},
   "outputs": [
    {
     "data": {
      "text/plain": [
       "Text(0, 0.5, 'Count')"
      ]
     },
     "execution_count": 9,
     "metadata": {},
     "output_type": "execute_result"
    },
    {
     "data": {
      "image/png": "[encoded data removed]",
      "text/plain": [
       "<Figure size 864x576 with 1 Axes>"
      ]
     },
     "metadata": {},
     "output_type": "display_data"
    }
   ],
   "source": [
    "plt.figure(figsize=(12,8))\n",
    "df['stars'].value_counts().sort_index().plot(kind='bar')\n",
    "plt.title('Distribution of Stars')\n",
    "plt.xlabel('Stars')\n",
    "plt.ylabel('Count')"
   ]
  },
  {
   "cell_type": "code",
   "execution_count": 10,
   "metadata": {},
   "outputs": [
    {
     "data": {
      "text/plain": [
       "0                                           Bakwas phone\n",
       "1      It is like a normal android..not an OnePlus..L...\n",
       "2      The best part of the phone is it's super simpl...\n",
       "3      Performance is really good - no lags at allPer...\n",
       "4      Phone looks good but features are 10k phoneCam...\n",
       "                             ...                        \n",
       "485    Gets heated quickly. Charge is not sufficient ...\n",
       "486    Everything is good, Camera is pretty decent an...\n",
       "487    Don't go with the name. It's an ordinary andro...\n",
       "488       Wonderful is the only word I've for this phone\n",
       "489    Does not deserve a single star. Battery draini...\n",
       "Name: body, Length: 490, dtype: object"
      ]
     },
     "execution_count": 10,
     "metadata": {},
     "output_type": "execute_result"
    }
   ],
   "source": [
    "review_content"
   ]
  },
  {
   "cell_type": "code",
   "execution_count": 11,
   "metadata": {},
   "outputs": [
    {
     "data": {
      "text/html": [
       "<div>\n",
       "<style scoped>\n",
       "    .dataframe tbody tr th:only-of-type {\n",
       "        vertical-align: middle;\n",
       "    }\n",
       "\n",
       "    .dataframe tbody tr th {\n",
       "        vertical-align: top;\n",
       "    }\n",
       "\n",
       "    .dataframe thead th {\n",
       "        text-align: right;\n",
       "    }\n",
       "</style>\n",
       "<table border=\"1\" class=\"dataframe\">\n",
       "  <thead>\n",
       "    <tr style=\"text-align: right;\">\n",
       "      <th></th>\n",
       "      <th>stars</th>\n",
       "    </tr>\n",
       "  </thead>\n",
       "  <tbody>\n",
       "    <tr>\n",
       "      <th>0</th>\n",
       "      <td>1.0 out of 5 stars</td>\n",
       "    </tr>\n",
       "    <tr>\n",
       "      <th>1</th>\n",
       "      <td>1.0 out of 5 stars</td>\n",
       "    </tr>\n",
       "    <tr>\n",
       "      <th>2</th>\n",
       "      <td>5.0 out of 5 stars</td>\n",
       "    </tr>\n",
       "    <tr>\n",
       "      <th>3</th>\n",
       "      <td>5.0 out of 5 stars</td>\n",
       "    </tr>\n",
       "    <tr>\n",
       "      <th>4</th>\n",
       "      <td>1.0 out of 5 stars</td>\n",
       "    </tr>\n",
       "    <tr>\n",
       "      <th>...</th>\n",
       "      <td>...</td>\n",
       "    </tr>\n",
       "    <tr>\n",
       "      <th>485</th>\n",
       "      <td>1.0 out of 5 stars</td>\n",
       "    </tr>\n",
       "    <tr>\n",
       "      <th>486</th>\n",
       "      <td>5.0 out of 5 stars</td>\n",
       "    </tr>\n",
       "    <tr>\n",
       "      <th>487</th>\n",
       "      <td>1.0 out of 5 stars</td>\n",
       "    </tr>\n",
       "    <tr>\n",
       "      <th>488</th>\n",
       "      <td>5.0 out of 5 stars</td>\n",
       "    </tr>\n",
       "    <tr>\n",
       "      <th>489</th>\n",
       "      <td>1.0 out of 5 stars</td>\n",
       "    </tr>\n",
       "  </tbody>\n",
       "</table>\n",
       "<p>490 rows × 1 columns</p>\n",
       "</div>"
      ],
      "text/plain": [
       "                  stars\n",
       "0    1.0 out of 5 stars\n",
       "1    1.0 out of 5 stars\n",
       "2    5.0 out of 5 stars\n",
       "3    5.0 out of 5 stars\n",
       "4    1.0 out of 5 stars\n",
       "..                  ...\n",
       "485  1.0 out of 5 stars\n",
       "486  5.0 out of 5 stars\n",
       "487  1.0 out of 5 stars\n",
       "488  5.0 out of 5 stars\n",
       "489  1.0 out of 5 stars\n",
       "\n",
       "[490 rows x 1 columns]"
      ]
     },
     "execution_count": 11,
     "metadata": {},
     "output_type": "execute_result"
    }
   ],
   "source": [
    "Reviews=df.iloc[:,[1]]\n",
    "Reviews"
   ]
  },
  {
   "cell_type": "code",
   "execution_count": 12,
   "metadata": {},
   "outputs": [
    {
     "data": {
      "text/plain": [
       "(490, 1)"
      ]
     },
     "execution_count": 12,
     "metadata": {},
     "output_type": "execute_result"
    }
   ],
   "source": [
    "Reviews.shape"
   ]
  },
  {
   "cell_type": "code",
   "execution_count": 13,
   "metadata": {},
   "outputs": [
    {
     "data": {
      "text/html": [
       "<div>\n",
       "<style scoped>\n",
       "    .dataframe tbody tr th:only-of-type {\n",
       "        vertical-align: middle;\n",
       "    }\n",
       "\n",
       "    .dataframe tbody tr th {\n",
       "        vertical-align: top;\n",
       "    }\n",
       "\n",
       "    .dataframe thead th {\n",
       "        text-align: right;\n",
       "    }\n",
       "</style>\n",
       "<table border=\"1\" class=\"dataframe\">\n",
       "  <thead>\n",
       "    <tr style=\"text-align: right;\">\n",
       "      <th></th>\n",
       "      <th>stars</th>\n",
       "    </tr>\n",
       "  </thead>\n",
       "  <tbody>\n",
       "    <tr>\n",
       "      <th>count</th>\n",
       "      <td>490</td>\n",
       "    </tr>\n",
       "    <tr>\n",
       "      <th>unique</th>\n",
       "      <td>5</td>\n",
       "    </tr>\n",
       "    <tr>\n",
       "      <th>top</th>\n",
       "      <td>5.0 out of 5 stars</td>\n",
       "    </tr>\n",
       "    <tr>\n",
       "      <th>freq</th>\n",
       "      <td>178</td>\n",
       "    </tr>\n",
       "  </tbody>\n",
       "</table>\n",
       "</div>"
      ],
      "text/plain": [
       "                     stars\n",
       "count                  490\n",
       "unique                   5\n",
       "top     5.0 out of 5 stars\n",
       "freq                   178"
      ]
     },
     "execution_count": 13,
     "metadata": {},
     "output_type": "execute_result"
    }
   ],
   "source": [
    "Reviews.describe()"
   ]
  },
  {
   "cell_type": "code",
   "execution_count": 14,
   "metadata": {},
   "outputs": [
    {
     "data": {
      "text/html": [
       "<div>\n",
       "<style scoped>\n",
       "    .dataframe tbody tr th:only-of-type {\n",
       "        vertical-align: middle;\n",
       "    }\n",
       "\n",
       "    .dataframe tbody tr th {\n",
       "        vertical-align: top;\n",
       "    }\n",
       "\n",
       "    .dataframe thead th {\n",
       "        text-align: right;\n",
       "    }\n",
       "</style>\n",
       "<table border=\"1\" class=\"dataframe\">\n",
       "  <thead>\n",
       "    <tr style=\"text-align: right;\">\n",
       "      <th></th>\n",
       "      <th>S. No</th>\n",
       "      <th>stars</th>\n",
       "      <th>body</th>\n",
       "    </tr>\n",
       "  </thead>\n",
       "  <tbody>\n",
       "    <tr>\n",
       "      <th>0</th>\n",
       "      <td>0</td>\n",
       "      <td>1.0 out of 5 stars</td>\n",
       "      <td>Bakwas phone</td>\n",
       "    </tr>\n",
       "    <tr>\n",
       "      <th>1</th>\n",
       "      <td>1</td>\n",
       "      <td>1.0 out of 5 stars</td>\n",
       "      <td>It is like a normal android..not an OnePlus..L...</td>\n",
       "    </tr>\n",
       "    <tr>\n",
       "      <th>2</th>\n",
       "      <td>2</td>\n",
       "      <td>5.0 out of 5 stars</td>\n",
       "      <td>The best part of the phone is it's super simpl...</td>\n",
       "    </tr>\n",
       "    <tr>\n",
       "      <th>3</th>\n",
       "      <td>3</td>\n",
       "      <td>5.0 out of 5 stars</td>\n",
       "      <td>Performance is really good - no lags at allPer...</td>\n",
       "    </tr>\n",
       "    <tr>\n",
       "      <th>4</th>\n",
       "      <td>4</td>\n",
       "      <td>1.0 out of 5 stars</td>\n",
       "      <td>Phone looks good but features are 10k phoneCam...</td>\n",
       "    </tr>\n",
       "  </tbody>\n",
       "</table>\n",
       "</div>"
      ],
      "text/plain": [
       "   S. No               stars  \\\n",
       "0      0  1.0 out of 5 stars   \n",
       "1      1  1.0 out of 5 stars   \n",
       "2      2  5.0 out of 5 stars   \n",
       "3      3  5.0 out of 5 stars   \n",
       "4      4  1.0 out of 5 stars   \n",
       "\n",
       "                                                body  \n",
       "0                                       Bakwas phone  \n",
       "1  It is like a normal android..not an OnePlus..L...  \n",
       "2  The best part of the phone is it's super simpl...  \n",
       "3  Performance is really good - no lags at allPer...  \n",
       "4  Phone looks good but features are 10k phoneCam...  "
      ]
     },
     "execution_count": 14,
     "metadata": {},
     "output_type": "execute_result"
    }
   ],
   "source": [
    "# removing customer name and reviw title column as they have not that significance in output##\n",
    "df.drop([\"name\",\"title\"],axis=1,inplace=True)\n",
    "df.head()"
   ]
  },
  {
   "cell_type": "code",
   "execution_count": 15,
   "metadata": {},
   "outputs": [
    {
     "data": {
      "text/plain": [
       "3"
      ]
     },
     "execution_count": 15,
     "metadata": {},
     "output_type": "execute_result"
    }
   ],
   "source": [
    "df.body.isna().sum()"
   ]
  },
  {
   "cell_type": "code",
   "execution_count": 16,
   "metadata": {},
   "outputs": [],
   "source": [
    "df['body']=df['body'].fillna(\" \")"
   ]
  },
  {
   "cell_type": "code",
   "execution_count": 17,
   "metadata": {},
   "outputs": [
    {
     "data": {
      "text/plain": [
       "0"
      ]
     },
     "execution_count": 17,
     "metadata": {},
     "output_type": "execute_result"
    }
   ],
   "source": [
    "df.body.isna().sum()"
   ]
  },
  {
   "cell_type": "code",
   "execution_count": 18,
   "metadata": {},
   "outputs": [],
   "source": [
    "##Converting all review into Lowercase..###\n",
    "\n",
    "df['body']= df['body'].apply(lambda x: \" \".join(word.lower() for word in x.split()))"
   ]
  },
  {
   "cell_type": "code",
   "execution_count": 19,
   "metadata": {},
   "outputs": [],
   "source": [
    "## removing punctuation from review..#\n",
    "import string\n",
    "df['body']=df['body'].apply(lambda x:''.join([i for i in x  if i not in string.punctuation]))"
   ]
  },
  {
   "cell_type": "code",
   "execution_count": 20,
   "metadata": {},
   "outputs": [],
   "source": [
    "## Remove Numbers from review...##\n",
    "df['body']=df['body'].str.replace('[0-9]','')"
   ]
  },
  {
   "cell_type": "code",
   "execution_count": 22,
   "metadata": {},
   "outputs": [
    {
     "name": "stderr",
     "output_type": "stream",
     "text": [
      "[nltk_data] Downloading package stopwords to\n",
      "[nltk_data]     C:\\Users\\Administrator\\AppData\\Roaming\\nltk_data...\n",
      "[nltk_data]   Unzipping corpora\\stopwords.zip.\n"
     ]
    },
    {
     "data": {
      "text/plain": [
       "True"
      ]
     },
     "execution_count": 22,
     "metadata": {},
     "output_type": "execute_result"
    }
   ],
   "source": [
    "import nltk\n",
    "nltk.download('stopwords')"
   ]
  },
  {
   "cell_type": "code",
   "execution_count": 23,
   "metadata": {},
   "outputs": [],
   "source": [
    "## removing all stopwords(english)....###\n",
    "from nltk.corpus import stopwords\n",
    "stop_words=stopwords.words('english')\n",
    "df['body']=df['body'].apply(lambda x: \" \".join(word for word in x.split() if word not in stop_words))"
   ]
  },
  {
   "cell_type": "code",
   "execution_count": 25,
   "metadata": {},
   "outputs": [
    {
     "data": {
      "text/html": [
       "<div>\n",
       "<style scoped>\n",
       "    .dataframe tbody tr th:only-of-type {\n",
       "        vertical-align: middle;\n",
       "    }\n",
       "\n",
       "    .dataframe tbody tr th {\n",
       "        vertical-align: top;\n",
       "    }\n",
       "\n",
       "    .dataframe thead th {\n",
       "        text-align: right;\n",
       "    }\n",
       "</style>\n",
       "<table border=\"1\" class=\"dataframe\">\n",
       "  <thead>\n",
       "    <tr style=\"text-align: right;\">\n",
       "      <th></th>\n",
       "      <th>S. No</th>\n",
       "      <th>stars</th>\n",
       "      <th>body</th>\n",
       "    </tr>\n",
       "  </thead>\n",
       "  <tbody>\n",
       "    <tr>\n",
       "      <th>0</th>\n",
       "      <td>0</td>\n",
       "      <td>1.0 out of 5 stars</td>\n",
       "      <td>bakwas phone</td>\n",
       "    </tr>\n",
       "    <tr>\n",
       "      <th>1</th>\n",
       "      <td>1</td>\n",
       "      <td>1.0 out of 5 stars</td>\n",
       "      <td>like normal androidnot onepluslow processing e...</td>\n",
       "    </tr>\n",
       "    <tr>\n",
       "      <th>2</th>\n",
       "      <td>2</td>\n",
       "      <td>5.0 out of 5 stars</td>\n",
       "      <td>best part phone super simple user friendly ope...</td>\n",
       "    </tr>\n",
       "    <tr>\n",
       "      <th>3</th>\n",
       "      <td>3</td>\n",
       "      <td>5.0 out of 5 stars</td>\n",
       "      <td>performance really good lags allperfectly smoo...</td>\n",
       "    </tr>\n",
       "    <tr>\n",
       "      <th>4</th>\n",
       "      <td>4</td>\n",
       "      <td>1.0 out of 5 stars</td>\n",
       "      <td>phone looks good features k phonecamera worstp...</td>\n",
       "    </tr>\n",
       "  </tbody>\n",
       "</table>\n",
       "</div>"
      ],
      "text/plain": [
       "   S. No               stars  \\\n",
       "0      0  1.0 out of 5 stars   \n",
       "1      1  1.0 out of 5 stars   \n",
       "2      2  5.0 out of 5 stars   \n",
       "3      3  5.0 out of 5 stars   \n",
       "4      4  1.0 out of 5 stars   \n",
       "\n",
       "                                                body  \n",
       "0                                       bakwas phone  \n",
       "1  like normal androidnot onepluslow processing e...  \n",
       "2  best part phone super simple user friendly ope...  \n",
       "3  performance really good lags allperfectly smoo...  \n",
       "4  phone looks good features k phonecamera worstp...  "
      ]
     },
     "execution_count": 25,
     "metadata": {},
     "output_type": "execute_result"
    }
   ],
   "source": [
    "df.head(5)"
   ]
  },
  {
   "cell_type": "code",
   "execution_count": 26,
   "metadata": {},
   "outputs": [],
   "source": [
    "def polarity(stars): \n",
    "    # set sentiment \n",
    "    if df['stars'] > 3: \n",
    "        return 'positive'\n",
    "    elif df['stars'] < 0: \n",
    "        return 'negative'\n",
    "    else: \n",
    "        return 'neutral'\n",
    "    \n",
    "def polarity(stars):\n",
    "    return pd.DataFrame(polarity(stars),polarity_Rating)"
   ]
  },
  {
   "cell_type": "code",
   "execution_count": 27,
   "metadata": {},
   "outputs": [],
   "source": [
    "df.body = df.body.astype(str)"
   ]
  },
  {
   "cell_type": "code",
   "execution_count": 28,
   "metadata": {},
   "outputs": [],
   "source": [
    "from nltk.sentiment.vader import SentimentIntensityAnalyzer\n",
    "sentialz = SentimentIntensityAnalyzer()"
   ]
  },
  {
   "cell_type": "code",
   "execution_count": 29,
   "metadata": {},
   "outputs": [
    {
     "data": {
      "text/plain": [
       "{'neg': 0.082, 'neu': 0.496, 'pos': 0.422, 'compound': 0.9678}"
      ]
     },
     "execution_count": 29,
     "metadata": {},
     "output_type": "execute_result"
    }
   ],
   "source": [
    "sentialz.polarity_scores(df.body.iloc[2])"
   ]
  },
  {
   "cell_type": "code",
   "execution_count": 30,
   "metadata": {},
   "outputs": [],
   "source": [
    "#Function to retrieve sentiment class\n",
    "def get_senti_class(review): \n",
    "    analysis = sentialz.polarity_scores(review)\n",
    "    # set sentiment \n",
    "    if analysis[\"compound\"] > 0: \n",
    "        return 'positive'\n",
    "    elif analysis[\"compound\"] < 0: \n",
    "        return 'negative'\n",
    "    else: \n",
    "        return 'neutral'\n",
    "    \n",
    "def get_sentiment(review):\n",
    "    return pd.Series([sentialz.polarity_scores(review),get_senti_class(review)])"
   ]
  },
  {
   "cell_type": "code",
   "execution_count": 31,
   "metadata": {},
   "outputs": [
    {
     "data": {
      "text/html": [
       "<div>\n",
       "<style scoped>\n",
       "    .dataframe tbody tr th:only-of-type {\n",
       "        vertical-align: middle;\n",
       "    }\n",
       "\n",
       "    .dataframe tbody tr th {\n",
       "        vertical-align: top;\n",
       "    }\n",
       "\n",
       "    .dataframe thead th {\n",
       "        text-align: right;\n",
       "    }\n",
       "</style>\n",
       "<table border=\"1\" class=\"dataframe\">\n",
       "  <thead>\n",
       "    <tr style=\"text-align: right;\">\n",
       "      <th></th>\n",
       "      <th>S. No</th>\n",
       "      <th>stars</th>\n",
       "      <th>body</th>\n",
       "      <th>Scores</th>\n",
       "      <th>Sentiment</th>\n",
       "    </tr>\n",
       "  </thead>\n",
       "  <tbody>\n",
       "    <tr>\n",
       "      <th>0</th>\n",
       "      <td>0</td>\n",
       "      <td>1.0 out of 5 stars</td>\n",
       "      <td>bakwas phone</td>\n",
       "      <td>{'neg': 0.0, 'neu': 1.0, 'pos': 0.0, 'compound...</td>\n",
       "      <td>neutral</td>\n",
       "    </tr>\n",
       "    <tr>\n",
       "      <th>1</th>\n",
       "      <td>1</td>\n",
       "      <td>1.0 out of 5 stars</td>\n",
       "      <td>like normal androidnot onepluslow processing e...</td>\n",
       "      <td>{'neg': 0.19, 'neu': 0.724, 'pos': 0.086, 'com...</td>\n",
       "      <td>negative</td>\n",
       "    </tr>\n",
       "    <tr>\n",
       "      <th>2</th>\n",
       "      <td>2</td>\n",
       "      <td>5.0 out of 5 stars</td>\n",
       "      <td>best part phone super simple user friendly ope...</td>\n",
       "      <td>{'neg': 0.082, 'neu': 0.496, 'pos': 0.422, 'co...</td>\n",
       "      <td>positive</td>\n",
       "    </tr>\n",
       "    <tr>\n",
       "      <th>3</th>\n",
       "      <td>3</td>\n",
       "      <td>5.0 out of 5 stars</td>\n",
       "      <td>performance really good lags allperfectly smoo...</td>\n",
       "      <td>{'neg': 0.036, 'neu': 0.646, 'pos': 0.319, 'co...</td>\n",
       "      <td>positive</td>\n",
       "    </tr>\n",
       "    <tr>\n",
       "      <th>4</th>\n",
       "      <td>4</td>\n",
       "      <td>1.0 out of 5 stars</td>\n",
       "      <td>phone looks good features k phonecamera worstp...</td>\n",
       "      <td>{'neg': 0.0, 'neu': 0.533, 'pos': 0.467, 'comp...</td>\n",
       "      <td>positive</td>\n",
       "    </tr>\n",
       "    <tr>\n",
       "      <th>...</th>\n",
       "      <td>...</td>\n",
       "      <td>...</td>\n",
       "      <td>...</td>\n",
       "      <td>...</td>\n",
       "      <td>...</td>\n",
       "    </tr>\n",
       "    <tr>\n",
       "      <th>485</th>\n",
       "      <td>485</td>\n",
       "      <td>1.0 out of 5 stars</td>\n",
       "      <td>gets heated quickly charge sufficient day wort...</td>\n",
       "      <td>{'neg': 0.221, 'neu': 0.643, 'pos': 0.136, 'co...</td>\n",
       "      <td>negative</td>\n",
       "    </tr>\n",
       "    <tr>\n",
       "      <th>486</th>\n",
       "      <td>486</td>\n",
       "      <td>5.0 out of 5 stars</td>\n",
       "      <td>everything good camera pretty decent battery l...</td>\n",
       "      <td>{'neg': 0.0, 'neu': 0.509, 'pos': 0.491, 'comp...</td>\n",
       "      <td>positive</td>\n",
       "    </tr>\n",
       "    <tr>\n",
       "      <th>487</th>\n",
       "      <td>487</td>\n",
       "      <td>1.0 out of 5 stars</td>\n",
       "      <td>dont go name ordinary android phone k dont spe...</td>\n",
       "      <td>{'neg': 0.279, 'neu': 0.721, 'pos': 0.0, 'comp...</td>\n",
       "      <td>negative</td>\n",
       "    </tr>\n",
       "    <tr>\n",
       "      <th>488</th>\n",
       "      <td>488</td>\n",
       "      <td>5.0 out of 5 stars</td>\n",
       "      <td>wonderful word ive phone</td>\n",
       "      <td>{'neg': 0.0, 'neu': 0.448, 'pos': 0.552, 'comp...</td>\n",
       "      <td>positive</td>\n",
       "    </tr>\n",
       "    <tr>\n",
       "      <th>489</th>\n",
       "      <td>489</td>\n",
       "      <td>1.0 out of 5 stars</td>\n",
       "      <td>deserve single star battery draining fast ui o...</td>\n",
       "      <td>{'neg': 0.0, 'neu': 0.82, 'pos': 0.18, 'compou...</td>\n",
       "      <td>positive</td>\n",
       "    </tr>\n",
       "  </tbody>\n",
       "</table>\n",
       "<p>490 rows × 5 columns</p>\n",
       "</div>"
      ],
      "text/plain": [
       "     S. No               stars  \\\n",
       "0        0  1.0 out of 5 stars   \n",
       "1        1  1.0 out of 5 stars   \n",
       "2        2  5.0 out of 5 stars   \n",
       "3        3  5.0 out of 5 stars   \n",
       "4        4  1.0 out of 5 stars   \n",
       "..     ...                 ...   \n",
       "485    485  1.0 out of 5 stars   \n",
       "486    486  5.0 out of 5 stars   \n",
       "487    487  1.0 out of 5 stars   \n",
       "488    488  5.0 out of 5 stars   \n",
       "489    489  1.0 out of 5 stars   \n",
       "\n",
       "                                                  body  \\\n",
       "0                                         bakwas phone   \n",
       "1    like normal androidnot onepluslow processing e...   \n",
       "2    best part phone super simple user friendly ope...   \n",
       "3    performance really good lags allperfectly smoo...   \n",
       "4    phone looks good features k phonecamera worstp...   \n",
       "..                                                 ...   \n",
       "485  gets heated quickly charge sufficient day wort...   \n",
       "486  everything good camera pretty decent battery l...   \n",
       "487  dont go name ordinary android phone k dont spe...   \n",
       "488                           wonderful word ive phone   \n",
       "489  deserve single star battery draining fast ui o...   \n",
       "\n",
       "                                                Scores Sentiment  \n",
       "0    {'neg': 0.0, 'neu': 1.0, 'pos': 0.0, 'compound...   neutral  \n",
       "1    {'neg': 0.19, 'neu': 0.724, 'pos': 0.086, 'com...  negative  \n",
       "2    {'neg': 0.082, 'neu': 0.496, 'pos': 0.422, 'co...  positive  \n",
       "3    {'neg': 0.036, 'neu': 0.646, 'pos': 0.319, 'co...  positive  \n",
       "4    {'neg': 0.0, 'neu': 0.533, 'pos': 0.467, 'comp...  positive  \n",
       "..                                                 ...       ...  \n",
       "485  {'neg': 0.221, 'neu': 0.643, 'pos': 0.136, 'co...  negative  \n",
       "486  {'neg': 0.0, 'neu': 0.509, 'pos': 0.491, 'comp...  positive  \n",
       "487  {'neg': 0.279, 'neu': 0.721, 'pos': 0.0, 'comp...  negative  \n",
       "488  {'neg': 0.0, 'neu': 0.448, 'pos': 0.552, 'comp...  positive  \n",
       "489  {'neg': 0.0, 'neu': 0.82, 'pos': 0.18, 'compou...  positive  \n",
       "\n",
       "[490 rows x 5 columns]"
      ]
     },
     "execution_count": 31,
     "metadata": {},
     "output_type": "execute_result"
    }
   ],
   "source": [
    "#Applying function to all tweets\n",
    "df[[\"Scores\", \"Sentiment\"]] = df.body.apply(get_sentiment)\n",
    "df"
   ]
  },
  {
   "cell_type": "code",
   "execution_count": 32,
   "metadata": {},
   "outputs": [
    {
     "data": {
      "text/plain": [
       "positive    354\n",
       "negative    108\n",
       "neutral      28\n",
       "Name: Sentiment, dtype: int64"
      ]
     },
     "execution_count": 32,
     "metadata": {},
     "output_type": "execute_result"
    }
   ],
   "source": [
    "df.Sentiment.value_counts()"
   ]
  },
  {
   "cell_type": "code",
   "execution_count": 33,
   "metadata": {},
   "outputs": [
    {
     "data": {
      "text/plain": [
       "<AxesSubplot:xlabel='Sentiment', ylabel='count'>"
      ]
     },
     "execution_count": 33,
     "metadata": {},
     "output_type": "execute_result"
    },
    {
     "data": {
      "image/png": "[encoded data removed]",
      "text/plain": [
       "<Figure size 432x288 with 1 Axes>"
      ]
     },
     "metadata": {},
     "output_type": "display_data"
    }
   ],
   "source": [
    "sns.countplot(df.Sentiment,palette='cool_r')"
   ]
  },
  {
   "cell_type": "code",
   "execution_count": 34,
   "metadata": {},
   "outputs": [
    {
     "data": {
      "text/html": [
       "<div>\n",
       "<style scoped>\n",
       "    .dataframe tbody tr th:only-of-type {\n",
       "        vertical-align: middle;\n",
       "    }\n",
       "\n",
       "    .dataframe tbody tr th {\n",
       "        vertical-align: top;\n",
       "    }\n",
       "\n",
       "    .dataframe thead th {\n",
       "        text-align: right;\n",
       "    }\n",
       "</style>\n",
       "<table border=\"1\" class=\"dataframe\">\n",
       "  <thead>\n",
       "    <tr style=\"text-align: right;\">\n",
       "      <th></th>\n",
       "      <th>S. No</th>\n",
       "      <th>stars</th>\n",
       "      <th>body</th>\n",
       "      <th>Scores</th>\n",
       "      <th>Sentiment</th>\n",
       "      <th>compound</th>\n",
       "      <th>comp_score</th>\n",
       "    </tr>\n",
       "  </thead>\n",
       "  <tbody>\n",
       "    <tr>\n",
       "      <th>0</th>\n",
       "      <td>0</td>\n",
       "      <td>1.0 out of 5 stars</td>\n",
       "      <td>bakwas phone</td>\n",
       "      <td>{'neg': 0.0, 'neu': 1.0, 'pos': 0.0, 'compound...</td>\n",
       "      <td>neutral</td>\n",
       "      <td>0.0000</td>\n",
       "      <td>neutral</td>\n",
       "    </tr>\n",
       "    <tr>\n",
       "      <th>1</th>\n",
       "      <td>1</td>\n",
       "      <td>1.0 out of 5 stars</td>\n",
       "      <td>like normal androidnot onepluslow processing e...</td>\n",
       "      <td>{'neg': 0.19, 'neu': 0.724, 'pos': 0.086, 'com...</td>\n",
       "      <td>negative</td>\n",
       "      <td>-0.4588</td>\n",
       "      <td>negative</td>\n",
       "    </tr>\n",
       "    <tr>\n",
       "      <th>2</th>\n",
       "      <td>2</td>\n",
       "      <td>5.0 out of 5 stars</td>\n",
       "      <td>best part phone super simple user friendly ope...</td>\n",
       "      <td>{'neg': 0.082, 'neu': 0.496, 'pos': 0.422, 'co...</td>\n",
       "      <td>positive</td>\n",
       "      <td>0.9678</td>\n",
       "      <td>positive</td>\n",
       "    </tr>\n",
       "    <tr>\n",
       "      <th>3</th>\n",
       "      <td>3</td>\n",
       "      <td>5.0 out of 5 stars</td>\n",
       "      <td>performance really good lags allperfectly smoo...</td>\n",
       "      <td>{'neg': 0.036, 'neu': 0.646, 'pos': 0.319, 'co...</td>\n",
       "      <td>positive</td>\n",
       "      <td>0.9678</td>\n",
       "      <td>positive</td>\n",
       "    </tr>\n",
       "    <tr>\n",
       "      <th>4</th>\n",
       "      <td>4</td>\n",
       "      <td>1.0 out of 5 stars</td>\n",
       "      <td>phone looks good features k phonecamera worstp...</td>\n",
       "      <td>{'neg': 0.0, 'neu': 0.533, 'pos': 0.467, 'comp...</td>\n",
       "      <td>positive</td>\n",
       "      <td>0.7845</td>\n",
       "      <td>positive</td>\n",
       "    </tr>\n",
       "    <tr>\n",
       "      <th>5</th>\n",
       "      <td>5</td>\n",
       "      <td>5.0 out of 5 stars</td>\n",
       "      <td>first impression overwhelming major upgrade la...</td>\n",
       "      <td>{'neg': 0.0, 'neu': 0.664, 'pos': 0.336, 'comp...</td>\n",
       "      <td>positive</td>\n",
       "      <td>0.9349</td>\n",
       "      <td>positive</td>\n",
       "    </tr>\n",
       "    <tr>\n",
       "      <th>6</th>\n",
       "      <td>6</td>\n",
       "      <td>5.0 out of 5 stars</td>\n",
       "      <td>awesome phone amazing camera better nord black...</td>\n",
       "      <td>{'neg': 0.0, 'neu': 0.375, 'pos': 0.625, 'comp...</td>\n",
       "      <td>positive</td>\n",
       "      <td>0.9432</td>\n",
       "      <td>positive</td>\n",
       "    </tr>\n",
       "    <tr>\n",
       "      <th>7</th>\n",
       "      <td>7</td>\n",
       "      <td>5.0 out of 5 stars</td>\n",
       "      <td>awesome phone pricecamera features good previo...</td>\n",
       "      <td>{'neg': 0.0, 'neu': 0.582, 'pos': 0.418, 'comp...</td>\n",
       "      <td>positive</td>\n",
       "      <td>0.8531</td>\n",
       "      <td>positive</td>\n",
       "    </tr>\n",
       "    <tr>\n",
       "      <th>8</th>\n",
       "      <td>8</td>\n",
       "      <td>5.0 out of 5 stars</td>\n",
       "      <td>far good omission alert slider baffling everyt...</td>\n",
       "      <td>{'neg': 0.0, 'neu': 0.546, 'pos': 0.454, 'comp...</td>\n",
       "      <td>positive</td>\n",
       "      <td>0.9571</td>\n",
       "      <td>positive</td>\n",
       "    </tr>\n",
       "    <tr>\n",
       "      <th>9</th>\n",
       "      <td>9</td>\n",
       "      <td>5.0 out of 5 stars</td>\n",
       "      <td>great phone</td>\n",
       "      <td>{'neg': 0.0, 'neu': 0.196, 'pos': 0.804, 'comp...</td>\n",
       "      <td>positive</td>\n",
       "      <td>0.6249</td>\n",
       "      <td>positive</td>\n",
       "    </tr>\n",
       "    <tr>\n",
       "      <th>10</th>\n",
       "      <td>10</td>\n",
       "      <td>5.0 out of 5 stars</td>\n",
       "      <td>pros good battery backupsuperamoled fluid disp...</td>\n",
       "      <td>{'neg': 0.0, 'neu': 0.84, 'pos': 0.16, 'compou...</td>\n",
       "      <td>positive</td>\n",
       "      <td>0.8225</td>\n",
       "      <td>positive</td>\n",
       "    </tr>\n",
       "    <tr>\n",
       "      <th>11</th>\n",
       "      <td>11</td>\n",
       "      <td>5.0 out of 5 stars</td>\n",
       "      <td>first thanks amazon deliver phone fast good co...</td>\n",
       "      <td>{'neg': 0.013, 'neu': 0.67, 'pos': 0.317, 'com...</td>\n",
       "      <td>positive</td>\n",
       "      <td>0.9931</td>\n",
       "      <td>positive</td>\n",
       "    </tr>\n",
       "    <tr>\n",
       "      <th>12</th>\n",
       "      <td>12</td>\n",
       "      <td>5.0 out of 5 stars</td>\n",
       "      <td>one plus six purchase working fine issue alway...</td>\n",
       "      <td>{'neg': 0.02, 'neu': 0.765, 'pos': 0.215, 'com...</td>\n",
       "      <td>positive</td>\n",
       "      <td>0.9517</td>\n",
       "      <td>positive</td>\n",
       "    </tr>\n",
       "    <tr>\n",
       "      <th>13</th>\n",
       "      <td>13</td>\n",
       "      <td>5.0 out of 5 stars</td>\n",
       "      <td>smoothest phone used far used days dont compla...</td>\n",
       "      <td>{'neg': 0.067, 'neu': 0.729, 'pos': 0.205, 'co...</td>\n",
       "      <td>positive</td>\n",
       "      <td>0.6540</td>\n",
       "      <td>positive</td>\n",
       "    </tr>\n",
       "    <tr>\n",
       "      <th>14</th>\n",
       "      <td>14</td>\n",
       "      <td>5.0 out of 5 stars</td>\n",
       "      <td>wonderful mobile ever great experience ahead</td>\n",
       "      <td>{'neg': 0.0, 'neu': 0.339, 'pos': 0.661, 'comp...</td>\n",
       "      <td>positive</td>\n",
       "      <td>0.8316</td>\n",
       "      <td>positive</td>\n",
       "    </tr>\n",
       "    <tr>\n",
       "      <th>15</th>\n",
       "      <td>15</td>\n",
       "      <td>1.0 out of 5 stars</td>\n",
       "      <td>junupdate using almost daysfront camera sucks ...</td>\n",
       "      <td>{'neg': 0.192, 'neu': 0.611, 'pos': 0.197, 'co...</td>\n",
       "      <td>positive</td>\n",
       "      <td>0.1440</td>\n",
       "      <td>positive</td>\n",
       "    </tr>\n",
       "    <tr>\n",
       "      <th>16</th>\n",
       "      <td>16</td>\n",
       "      <td>5.0 out of 5 stars</td>\n",
       "      <td>best phone price</td>\n",
       "      <td>{'neg': 0.0, 'neu': 0.323, 'pos': 0.677, 'comp...</td>\n",
       "      <td>positive</td>\n",
       "      <td>0.6369</td>\n",
       "      <td>positive</td>\n",
       "    </tr>\n",
       "    <tr>\n",
       "      <th>17</th>\n",
       "      <td>17</td>\n",
       "      <td>1.0 out of 5 stars</td>\n",
       "      <td>worst mobile dont waste hard earn money pathet...</td>\n",
       "      <td>{'neg': 0.475, 'neu': 0.304, 'pos': 0.221, 'co...</td>\n",
       "      <td>negative</td>\n",
       "      <td>-0.7329</td>\n",
       "      <td>negative</td>\n",
       "    </tr>\n",
       "    <tr>\n",
       "      <th>18</th>\n",
       "      <td>18</td>\n",
       "      <td>5.0 out of 5 stars</td>\n",
       "      <td>go take word nothing better price</td>\n",
       "      <td>{'neg': 0.325, 'neu': 0.675, 'pos': 0.0, 'comp...</td>\n",
       "      <td>negative</td>\n",
       "      <td>-0.3412</td>\n",
       "      <td>negative</td>\n",
       "    </tr>\n",
       "    <tr>\n",
       "      <th>19</th>\n",
       "      <td>19</td>\n",
       "      <td>5.0 out of 5 stars</td>\n",
       "      <td>browser support html video decent phone awesom...</td>\n",
       "      <td>{'neg': 0.0, 'neu': 0.627, 'pos': 0.373, 'comp...</td>\n",
       "      <td>positive</td>\n",
       "      <td>0.9690</td>\n",
       "      <td>positive</td>\n",
       "    </tr>\n",
       "    <tr>\n",
       "      <th>20</th>\n",
       "      <td>20</td>\n",
       "      <td>5.0 out of 5 stars</td>\n",
       "      <td>prososdisplaycameraprocessorconsbattery draini...</td>\n",
       "      <td>{'neg': 0.0, 'neu': 0.69, 'pos': 0.31, 'compou...</td>\n",
       "      <td>positive</td>\n",
       "      <td>0.4019</td>\n",
       "      <td>positive</td>\n",
       "    </tr>\n",
       "    <tr>\n",
       "      <th>21</th>\n",
       "      <td>21</td>\n",
       "      <td>5.0 out of 5 stars</td>\n",
       "      <td>definitely liked phone camera quality bus amaz...</td>\n",
       "      <td>{'neg': 0.0, 'neu': 0.498, 'pos': 0.502, 'comp...</td>\n",
       "      <td>positive</td>\n",
       "      <td>0.9337</td>\n",
       "      <td>positive</td>\n",
       "    </tr>\n",
       "    <tr>\n",
       "      <th>22</th>\n",
       "      <td>22</td>\n",
       "      <td>5.0 out of 5 stars</td>\n",
       "      <td>super chargeing super photo must buy</td>\n",
       "      <td>{'neg': 0.0, 'neu': 0.339, 'pos': 0.661, 'comp...</td>\n",
       "      <td>positive</td>\n",
       "      <td>0.8316</td>\n",
       "      <td>positive</td>\n",
       "    </tr>\n",
       "    <tr>\n",
       "      <th>23</th>\n",
       "      <td>23</td>\n",
       "      <td>5.0 out of 5 stars</td>\n",
       "      <td>first oneplus product owned till quate happy m...</td>\n",
       "      <td>{'neg': 0.0, 'neu': 0.779, 'pos': 0.221, 'comp...</td>\n",
       "      <td>positive</td>\n",
       "      <td>0.7783</td>\n",
       "      <td>positive</td>\n",
       "    </tr>\n",
       "    <tr>\n",
       "      <th>24</th>\n",
       "      <td>24</td>\n",
       "      <td>2.0 out of 5 stars</td>\n",
       "      <td>camera quality good</td>\n",
       "      <td>{'neg': 0.0, 'neu': 0.408, 'pos': 0.592, 'comp...</td>\n",
       "      <td>positive</td>\n",
       "      <td>0.4404</td>\n",
       "      <td>positive</td>\n",
       "    </tr>\n",
       "    <tr>\n",
       "      <th>25</th>\n",
       "      <td>25</td>\n",
       "      <td>5.0 out of 5 stars</td>\n",
       "      <td>excellent mobile one plus best price also new ...</td>\n",
       "      <td>{'neg': 0.0, 'neu': 0.536, 'pos': 0.464, 'comp...</td>\n",
       "      <td>positive</td>\n",
       "      <td>0.9186</td>\n",
       "      <td>positive</td>\n",
       "    </tr>\n",
       "    <tr>\n",
       "      <th>26</th>\n",
       "      <td>26</td>\n",
       "      <td>5.0 out of 5 stars</td>\n",
       "      <td>oneplus always oneplusvery good phone price ni...</td>\n",
       "      <td>{'neg': 0.0, 'neu': 0.613, 'pos': 0.387, 'comp...</td>\n",
       "      <td>positive</td>\n",
       "      <td>0.9001</td>\n",
       "      <td>positive</td>\n",
       "    </tr>\n",
       "    <tr>\n",
       "      <th>27</th>\n",
       "      <td>27</td>\n",
       "      <td>5.0 out of 5 stars</td>\n",
       "      <td>excellent 👌all super</td>\n",
       "      <td>{'neg': 0.0, 'neu': 0.116, 'pos': 0.884, 'comp...</td>\n",
       "      <td>positive</td>\n",
       "      <td>0.8225</td>\n",
       "      <td>positive</td>\n",
       "    </tr>\n",
       "    <tr>\n",
       "      <th>28</th>\n",
       "      <td>28</td>\n",
       "      <td>1.0 out of 5 stars</td>\n",
       "      <td>waste money phone heats like volcano suggest g...</td>\n",
       "      <td>{'neg': 0.163, 'neu': 0.523, 'pos': 0.314, 'co...</td>\n",
       "      <td>positive</td>\n",
       "      <td>0.3818</td>\n",
       "      <td>positive</td>\n",
       "    </tr>\n",
       "    <tr>\n",
       "      <th>29</th>\n",
       "      <td>29</td>\n",
       "      <td>5.0 out of 5 stars</td>\n",
       "      <td>good</td>\n",
       "      <td>{'neg': 0.0, 'neu': 0.0, 'pos': 1.0, 'compound...</td>\n",
       "      <td>positive</td>\n",
       "      <td>0.4404</td>\n",
       "      <td>positive</td>\n",
       "    </tr>\n",
       "  </tbody>\n",
       "</table>\n",
       "</div>"
      ],
      "text/plain": [
       "    S. No               stars  \\\n",
       "0       0  1.0 out of 5 stars   \n",
       "1       1  1.0 out of 5 stars   \n",
       "2       2  5.0 out of 5 stars   \n",
       "3       3  5.0 out of 5 stars   \n",
       "4       4  1.0 out of 5 stars   \n",
       "5       5  5.0 out of 5 stars   \n",
       "6       6  5.0 out of 5 stars   \n",
       "7       7  5.0 out of 5 stars   \n",
       "8       8  5.0 out of 5 stars   \n",
       "9       9  5.0 out of 5 stars   \n",
       "10     10  5.0 out of 5 stars   \n",
       "11     11  5.0 out of 5 stars   \n",
       "12     12  5.0 out of 5 stars   \n",
       "13     13  5.0 out of 5 stars   \n",
       "14     14  5.0 out of 5 stars   \n",
       "15     15  1.0 out of 5 stars   \n",
       "16     16  5.0 out of 5 stars   \n",
       "17     17  1.0 out of 5 stars   \n",
       "18     18  5.0 out of 5 stars   \n",
       "19     19  5.0 out of 5 stars   \n",
       "20     20  5.0 out of 5 stars   \n",
       "21     21  5.0 out of 5 stars   \n",
       "22     22  5.0 out of 5 stars   \n",
       "23     23  5.0 out of 5 stars   \n",
       "24     24  2.0 out of 5 stars   \n",
       "25     25  5.0 out of 5 stars   \n",
       "26     26  5.0 out of 5 stars   \n",
       "27     27  5.0 out of 5 stars   \n",
       "28     28  1.0 out of 5 stars   \n",
       "29     29  5.0 out of 5 stars   \n",
       "\n",
       "                                                 body  \\\n",
       "0                                        bakwas phone   \n",
       "1   like normal androidnot onepluslow processing e...   \n",
       "2   best part phone super simple user friendly ope...   \n",
       "3   performance really good lags allperfectly smoo...   \n",
       "4   phone looks good features k phonecamera worstp...   \n",
       "5   first impression overwhelming major upgrade la...   \n",
       "6   awesome phone amazing camera better nord black...   \n",
       "7   awesome phone pricecamera features good previo...   \n",
       "8   far good omission alert slider baffling everyt...   \n",
       "9                                         great phone   \n",
       "10  pros good battery backupsuperamoled fluid disp...   \n",
       "11  first thanks amazon deliver phone fast good co...   \n",
       "12  one plus six purchase working fine issue alway...   \n",
       "13  smoothest phone used far used days dont compla...   \n",
       "14       wonderful mobile ever great experience ahead   \n",
       "15  junupdate using almost daysfront camera sucks ...   \n",
       "16                                   best phone price   \n",
       "17  worst mobile dont waste hard earn money pathet...   \n",
       "18                  go take word nothing better price   \n",
       "19  browser support html video decent phone awesom...   \n",
       "20  prososdisplaycameraprocessorconsbattery draini...   \n",
       "21  definitely liked phone camera quality bus amaz...   \n",
       "22               super chargeing super photo must buy   \n",
       "23  first oneplus product owned till quate happy m...   \n",
       "24                                camera quality good   \n",
       "25  excellent mobile one plus best price also new ...   \n",
       "26  oneplus always oneplusvery good phone price ni...   \n",
       "27                               excellent 👌all super   \n",
       "28  waste money phone heats like volcano suggest g...   \n",
       "29                                               good   \n",
       "\n",
       "                                               Scores Sentiment  compound  \\\n",
       "0   {'neg': 0.0, 'neu': 1.0, 'pos': 0.0, 'compound...   neutral    0.0000   \n",
       "1   {'neg': 0.19, 'neu': 0.724, 'pos': 0.086, 'com...  negative   -0.4588   \n",
       "2   {'neg': 0.082, 'neu': 0.496, 'pos': 0.422, 'co...  positive    0.9678   \n",
       "3   {'neg': 0.036, 'neu': 0.646, 'pos': 0.319, 'co...  positive    0.9678   \n",
       "4   {'neg': 0.0, 'neu': 0.533, 'pos': 0.467, 'comp...  positive    0.7845   \n",
       "5   {'neg': 0.0, 'neu': 0.664, 'pos': 0.336, 'comp...  positive    0.9349   \n",
       "6   {'neg': 0.0, 'neu': 0.375, 'pos': 0.625, 'comp...  positive    0.9432   \n",
       "7   {'neg': 0.0, 'neu': 0.582, 'pos': 0.418, 'comp...  positive    0.8531   \n",
       "8   {'neg': 0.0, 'neu': 0.546, 'pos': 0.454, 'comp...  positive    0.9571   \n",
       "9   {'neg': 0.0, 'neu': 0.196, 'pos': 0.804, 'comp...  positive    0.6249   \n",
       "10  {'neg': 0.0, 'neu': 0.84, 'pos': 0.16, 'compou...  positive    0.8225   \n",
       "11  {'neg': 0.013, 'neu': 0.67, 'pos': 0.317, 'com...  positive    0.9931   \n",
       "12  {'neg': 0.02, 'neu': 0.765, 'pos': 0.215, 'com...  positive    0.9517   \n",
       "13  {'neg': 0.067, 'neu': 0.729, 'pos': 0.205, 'co...  positive    0.6540   \n",
       "14  {'neg': 0.0, 'neu': 0.339, 'pos': 0.661, 'comp...  positive    0.8316   \n",
       "15  {'neg': 0.192, 'neu': 0.611, 'pos': 0.197, 'co...  positive    0.1440   \n",
       "16  {'neg': 0.0, 'neu': 0.323, 'pos': 0.677, 'comp...  positive    0.6369   \n",
       "17  {'neg': 0.475, 'neu': 0.304, 'pos': 0.221, 'co...  negative   -0.7329   \n",
       "18  {'neg': 0.325, 'neu': 0.675, 'pos': 0.0, 'comp...  negative   -0.3412   \n",
       "19  {'neg': 0.0, 'neu': 0.627, 'pos': 0.373, 'comp...  positive    0.9690   \n",
       "20  {'neg': 0.0, 'neu': 0.69, 'pos': 0.31, 'compou...  positive    0.4019   \n",
       "21  {'neg': 0.0, 'neu': 0.498, 'pos': 0.502, 'comp...  positive    0.9337   \n",
       "22  {'neg': 0.0, 'neu': 0.339, 'pos': 0.661, 'comp...  positive    0.8316   \n",
       "23  {'neg': 0.0, 'neu': 0.779, 'pos': 0.221, 'comp...  positive    0.7783   \n",
       "24  {'neg': 0.0, 'neu': 0.408, 'pos': 0.592, 'comp...  positive    0.4404   \n",
       "25  {'neg': 0.0, 'neu': 0.536, 'pos': 0.464, 'comp...  positive    0.9186   \n",
       "26  {'neg': 0.0, 'neu': 0.613, 'pos': 0.387, 'comp...  positive    0.9001   \n",
       "27  {'neg': 0.0, 'neu': 0.116, 'pos': 0.884, 'comp...  positive    0.8225   \n",
       "28  {'neg': 0.163, 'neu': 0.523, 'pos': 0.314, 'co...  positive    0.3818   \n",
       "29  {'neg': 0.0, 'neu': 0.0, 'pos': 1.0, 'compound...  positive    0.4404   \n",
       "\n",
       "   comp_score  \n",
       "0     neutral  \n",
       "1    negative  \n",
       "2    positive  \n",
       "3    positive  \n",
       "4    positive  \n",
       "5    positive  \n",
       "6    positive  \n",
       "7    positive  \n",
       "8    positive  \n",
       "9    positive  \n",
       "10   positive  \n",
       "11   positive  \n",
       "12   positive  \n",
       "13   positive  \n",
       "14   positive  \n",
       "15   positive  \n",
       "16   positive  \n",
       "17   negative  \n",
       "18   negative  \n",
       "19   positive  \n",
       "20   positive  \n",
       "21   positive  \n",
       "22   positive  \n",
       "23   positive  \n",
       "24   positive  \n",
       "25   positive  \n",
       "26   positive  \n",
       "27   positive  \n",
       "28   positive  \n",
       "29   positive  "
      ]
     },
     "execution_count": 34,
     "metadata": {},
     "output_type": "execute_result"
    }
   ],
   "source": [
    "df['compound']=df['Scores'].apply(lambda score_dict: score_dict['compound'])\n",
    "df['comp_score']=''\n",
    "df.loc[df.compound>0,'comp_score']='positive'\n",
    "df.loc[df.compound==0,'comp_score']='neutral'\n",
    "df.loc[df.compound<0,'comp_score']='negative'\n",
    "df.head(30)"
   ]
  },
  {
   "cell_type": "code",
   "execution_count": 35,
   "metadata": {},
   "outputs": [],
   "source": [
    "from sklearn import preprocessing\n",
    "from sklearn.preprocessing import LabelEncoder"
   ]
  },
  {
   "cell_type": "code",
   "execution_count": 36,
   "metadata": {},
   "outputs": [],
   "source": [
    "le=preprocessing.LabelEncoder()"
   ]
  },
  {
   "cell_type": "code",
   "execution_count": 37,
   "metadata": {},
   "outputs": [],
   "source": [
    "df['comp_score']=le.fit_transform(df['comp_score'])"
   ]
  },
  {
   "cell_type": "code",
   "execution_count": 38,
   "metadata": {},
   "outputs": [
    {
     "data": {
      "text/plain": [
       "<AxesSubplot:xlabel='stars', ylabel='count'>"
      ]
     },
     "execution_count": 38,
     "metadata": {},
     "output_type": "execute_result"
    },
    {
     "data": {
      "image/png": "[encoded data removed]",
      "text/plain": [
       "<Figure size 432x288 with 1 Axes>"
      ]
     },
     "metadata": {},
     "output_type": "display_data"
    }
   ],
   "source": [
    "sns.set_style('whitegrid')\n",
    "sns.countplot(x='stars',data=df,palette='YlGnBu_r')"
   ]
  },
  {
   "cell_type": "code",
   "execution_count": 39,
   "metadata": {},
   "outputs": [],
   "source": [
    "x=df['body']\n",
    "y=df['comp_score']"
   ]
  },
  {
   "cell_type": "code",
   "execution_count": 40,
   "metadata": {},
   "outputs": [],
   "source": [
    "from sklearn.model_selection import train_test_split\n",
    "\n",
    "X_train,X_test,y_train,y_test=train_test_split(x,y,random_state=0)"
   ]
  },
  {
   "cell_type": "code",
   "execution_count": 41,
   "metadata": {},
   "outputs": [
    {
     "data": {
      "text/plain": [
       "((367,), (123,), (367,), (123,))"
      ]
     },
     "execution_count": 41,
     "metadata": {},
     "output_type": "execute_result"
    }
   ],
   "source": [
    "X_train.shape,X_test.shape,y_train.shape,y_test.shape"
   ]
  },
  {
   "cell_type": "markdown",
   "metadata": {},
   "source": [
    "# BOW"
   ]
  },
  {
   "cell_type": "code",
   "execution_count": 42,
   "metadata": {},
   "outputs": [],
   "source": [
    "from sklearn.feature_extraction.text import CountVectorizer\n",
    "vect=CountVectorizer().fit(X_train)"
   ]
  },
  {
   "cell_type": "code",
   "execution_count": 43,
   "metadata": {},
   "outputs": [
    {
     "data": {
      "text/plain": [
       "['aata',\n",
       " 'apply',\n",
       " 'behind',\n",
       " 'buttons',\n",
       " 'cheep',\n",
       " 'core',\n",
       " 'diagonally',\n",
       " 'edgesso',\n",
       " 'fact',\n",
       " 'friends',\n",
       " 'gui',\n",
       " 'hrsday',\n",
       " 'jackcase',\n",
       " 'lil',\n",
       " 'meadia',\n",
       " 'multitasking',\n",
       " 'okayprocessor',\n",
       " 'par',\n",
       " 'plastic',\n",
       " 'promoters',\n",
       " 'recognise',\n",
       " 'sales',\n",
       " 'slight',\n",
       " 'sturdy',\n",
       " 'thinking',\n",
       " 'unless',\n",
       " 'warp',\n",
       " 'youthe']"
      ]
     },
     "execution_count": 43,
     "metadata": {},
     "output_type": "execute_result"
    }
   ],
   "source": [
    "vect.get_feature_names()[::100]"
   ]
  },
  {
   "cell_type": "code",
   "execution_count": 44,
   "metadata": {},
   "outputs": [
    {
     "data": {
      "text/plain": [
       "2719"
      ]
     },
     "execution_count": 44,
     "metadata": {},
     "output_type": "execute_result"
    }
   ],
   "source": [
    "len(vect.get_feature_names())"
   ]
  },
  {
   "cell_type": "code",
   "execution_count": 45,
   "metadata": {},
   "outputs": [
    {
     "data": {
      "text/plain": [
       "<367x2719 sparse matrix of type '<class 'numpy.int64'>'\n",
       "\twith 9369 stored elements in Compressed Sparse Row format>"
      ]
     },
     "execution_count": 45,
     "metadata": {},
     "output_type": "execute_result"
    }
   ],
   "source": [
    "X_train_vectorized=vect.transform(X_train)\n",
    "X_train_vectorized"
   ]
  },
  {
   "cell_type": "code",
   "execution_count": 46,
   "metadata": {},
   "outputs": [
    {
     "data": {
      "text/plain": [
       "LogisticRegression(multi_class='ovr', solver='liblinear')"
      ]
     },
     "execution_count": 46,
     "metadata": {},
     "output_type": "execute_result"
    }
   ],
   "source": [
    "from sklearn.linear_model import LogisticRegression\n",
    "model=LogisticRegression(multi_class='ovr',solver='liblinear')\n",
    "model.fit(X_train_vectorized,y_train)"
   ]
  },
  {
   "cell_type": "code",
   "execution_count": 47,
   "metadata": {},
   "outputs": [
    {
     "name": "stdout",
     "output_type": "stream",
     "text": [
      "Accuracy: 0.7804878048780488\n"
     ]
    }
   ],
   "source": [
    "from sklearn.metrics import accuracy_score\n",
    "predictions=model.predict(vect.transform(X_test))\n",
    "print('Accuracy:',accuracy_score(y_test,predictions))"
   ]
  },
  {
   "cell_type": "code",
   "execution_count": 48,
   "metadata": {},
   "outputs": [],
   "source": [
    "#smallest coefs are words in neagative reviews and largest coefs are words in positive reviews"
   ]
  },
  {
   "cell_type": "code",
   "execution_count": 49,
   "metadata": {},
   "outputs": [
    {
     "name": "stdout",
     "output_type": "stream",
     "text": [
      "Smallest coefs:\n",
      "['good' 'best' 'great' 'excellent' 'experience' 'support' 'samsung'\n",
      " 'worth' 'please' 'superb']\n",
      "Largest coefs:\n",
      "['worst' 'disappointed' 'bad' 'disappointing' 'poor' 'killer' 'waste'\n",
      " 'low' 'pathetic' 'problem']\n"
     ]
    }
   ],
   "source": [
    "feature_names=np.array(vect.get_feature_names())\n",
    "sorted_coef_index=model.coef_[0].argsort()\n",
    "print('Smallest coefs:\\n{}'.format(feature_names[sorted_coef_index[:10]]))\n",
    "print('Largest coefs:\\n{}'.format(feature_names[sorted_coef_index[:-11:-1]]))"
   ]
  },
  {
   "cell_type": "markdown",
   "metadata": {},
   "source": [
    "# Tf-idf"
   ]
  },
  {
   "cell_type": "code",
   "execution_count": 50,
   "metadata": {},
   "outputs": [
    {
     "data": {
      "text/plain": [
       "987"
      ]
     },
     "execution_count": 50,
     "metadata": {},
     "output_type": "execute_result"
    }
   ],
   "source": [
    "from sklearn.feature_extraction.text import TfidfVectorizer\n",
    "vect=TfidfVectorizer(min_df=2).fit(X_train)\n",
    "len(vect.get_feature_names())"
   ]
  },
  {
   "cell_type": "code",
   "execution_count": 51,
   "metadata": {},
   "outputs": [],
   "source": [
    "#featured with high tfidf are highly used in particular review"
   ]
  },
  {
   "cell_type": "code",
   "execution_count": 52,
   "metadata": {},
   "outputs": [
    {
     "data": {
      "text/plain": [
       "LogisticRegression()"
      ]
     },
     "execution_count": 52,
     "metadata": {},
     "output_type": "execute_result"
    }
   ],
   "source": [
    "X_train_vectorized=vect.transform(X_train)\n",
    "from sklearn.linear_model import LogisticRegression\n",
    "model=LogisticRegression()\n",
    "model.fit(X_train_vectorized,y_train)"
   ]
  },
  {
   "cell_type": "code",
   "execution_count": 53,
   "metadata": {},
   "outputs": [
    {
     "name": "stdout",
     "output_type": "stream",
     "text": [
      "Accuracy: 0.7398373983739838\n"
     ]
    }
   ],
   "source": [
    "from sklearn.metrics import accuracy_score\n",
    "predictions=model.predict(vect.transform(X_test))\n",
    "print('Accuracy:',accuracy_score(y_test,predictions))"
   ]
  },
  {
   "cell_type": "code",
   "execution_count": 54,
   "metadata": {},
   "outputs": [
    {
     "name": "stdout",
     "output_type": "stream",
     "text": [
      "Smallest coefs:\n",
      "['good' 'best' 'great' 'excellent' 'superb' 'support' 'nice' 'screen'\n",
      " 'weight' 'worth']\n",
      "Largest coefs:\n",
      "['worst' 'waste' 'bad' 'poor' 'disappointed' 'disappointing' 'oneplus'\n",
      " 'killer' 'return' 'pathetic']\n"
     ]
    }
   ],
   "source": [
    "feature_names=np.array(vect.get_feature_names())\n",
    "sorted_coef_index=model.coef_[0].argsort()\n",
    "print('Smallest coefs:\\n{}'.format(feature_names[sorted_coef_index[:10]]))\n",
    "print('Largest coefs:\\n{}'.format(feature_names[sorted_coef_index[:-11:-1]]))"
   ]
  },
  {
   "cell_type": "markdown",
   "metadata": {},
   "source": [
    "# n-grams"
   ]
  },
  {
   "cell_type": "code",
   "execution_count": 55,
   "metadata": {},
   "outputs": [
    {
     "data": {
      "text/plain": [
       "1712"
      ]
     },
     "execution_count": 55,
     "metadata": {},
     "output_type": "execute_result"
    }
   ],
   "source": [
    "vect=CountVectorizer(min_df=2, ngram_range=(1,2)).fit(X_train)\n",
    "X_train_vectorized=vect.transform(X_train)\n",
    "len(vect.get_feature_names())"
   ]
  },
  {
   "cell_type": "code",
   "execution_count": 56,
   "metadata": {},
   "outputs": [
    {
     "data": {
      "text/plain": [
       "LogisticRegression()"
      ]
     },
     "execution_count": 56,
     "metadata": {},
     "output_type": "execute_result"
    }
   ],
   "source": [
    "model=LogisticRegression()\n",
    "model.fit(X_train_vectorized,y_train)"
   ]
  },
  {
   "cell_type": "code",
   "execution_count": 57,
   "metadata": {},
   "outputs": [
    {
     "name": "stdout",
     "output_type": "stream",
     "text": [
      "Accuracy: 0.7642276422764228\n"
     ]
    }
   ],
   "source": [
    "from sklearn.metrics import accuracy_score\n",
    "predictions=model.predict(vect.transform(X_test))\n",
    "print('Accuracy:',accuracy_score(y_test,predictions))"
   ]
  },
  {
   "cell_type": "code",
   "execution_count": 58,
   "metadata": {},
   "outputs": [
    {
     "name": "stdout",
     "output_type": "stream",
     "text": [
      "Smallest coefs:\n",
      "['best' 'good' 'experience' 'ok' 'excellent' 'great' 'samsung' 'please'\n",
      " 'processor' 'superb']\n",
      "Largest coefs:\n",
      "['disappointed' 'waste' 'disappointing' 'bad' 'worst' 'poor' 'killer'\n",
      " 'little' 'problem' 'pathetic']\n"
     ]
    }
   ],
   "source": [
    "feature_names=np.array(vect.get_feature_names())\n",
    "sorted_coef_index=model.coef_[0].argsort()\n",
    "print('Smallest coefs:\\n{}'.format(feature_names[sorted_coef_index[:10]]))\n",
    "print('Largest coefs:\\n{}'.format(feature_names[sorted_coef_index[:-11:-1]]))"
   ]
  },
  {
   "cell_type": "code",
   "execution_count": null,
   "metadata": {},
   "outputs": [],
   "source": []
  }
 ],
 "metadata": {
  "kernelspec": {
   "display_name": "Python 3",
   "language": "python",
   "name": "python3"
  },
  "language_info": {
   "codemirror_mode": {
    "name": "ipython",
    "version": 3
   },
   "file_extension": ".py",
   "mimetype": "text/x-python",
   "name": "python",
   "nbconvert_exporter": "python",
   "pygments_lexer": "ipython3",
   "version": "3.8.5"
  }
 },
 "nbformat": 4,
 "nbformat_minor": 4
}
